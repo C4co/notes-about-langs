{
 "cells": [
  {
   "cell_type": "markdown",
   "metadata": {},
   "source": [
    "# C# Async\n",
    "\n",
    "Some notes about async C#.\n",
    "\n",
    "The core of async programming is the Task and Task<T> objects, which model asynchronous operations. They are supported by the async and await keywords. The model is fairly simple in most cases:\n"
   ]
  },
  {
   "cell_type": "code",
   "execution_count": 7,
   "metadata": {
    "dotnet_interactive": {
     "language": "csharp"
    },
    "polyglot_notebook": {
     "kernelName": "csharp"
    }
   },
   "outputs": [
    {
     "name": "stdout",
     "output_type": "stream",
     "text": [
      "Waiting for message...\n",
      "Hello World!\n",
      "Hello World!\n"
     ]
    }
   ],
   "source": [
    "//delayed message\n",
    "\n",
    "class AsyncMessage\n",
    "{\n",
    "  public static async Task<string> GetMessageAsync()\n",
    "  {\n",
    "    //simulate a delay\n",
    "    await Task.Delay(2000);\n",
    "    return \"Hello World!\";\n",
    "  }\n",
    "}\n",
    "\n",
    "Console.WriteLine(\"Waiting for message...\");\n",
    "var message = AsyncMessage.GetMessageAsync();\n",
    "\n",
    "//resolving with await\n",
    "Console.WriteLine(await message);\n",
    "\n",
    "//resolving with result\n",
    "Console.WriteLine(message.Result);\n"
   ]
  }
 ],
 "metadata": {
  "kernelspec": {
   "display_name": ".NET (C#)",
   "language": "C#",
   "name": ".net-csharp"
  },
  "language_info": {
   "name": "polyglot-notebook"
  },
  "polyglot_notebook": {
   "kernelInfo": {
    "defaultKernelName": "csharp",
    "items": [
     {
      "aliases": [],
      "languageName": "csharp",
      "name": "csharp"
     }
    ]
   }
  }
 },
 "nbformat": 4,
 "nbformat_minor": 2
}
