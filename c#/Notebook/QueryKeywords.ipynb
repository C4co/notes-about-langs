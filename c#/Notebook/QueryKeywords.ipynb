{
 "cells": [
  {
   "cell_type": "markdown",
   "metadata": {},
   "source": [
    "# Query key workds\n"
   ]
  },
  {
   "cell_type": "markdown",
   "metadata": {},
   "source": [
    "### 👉 from, where and select\n",
    "\n",
    "**from** - Specifies a data source and range variable (similar to an interation variable).\n",
    "\n",
    "**where** - Filters souce elements based on one or more Boolean expression separated by logical AND and OR operators (&& or ||).\n",
    "\n",
    "**Select** - Specifies the type and shape that the element in the returned sequence will have when the query is executed.\n"
   ]
  },
  {
   "cell_type": "code",
   "execution_count": 7,
   "metadata": {
    "dotnet_interactive": {
     "language": "csharp"
    },
    "polyglot_notebook": {
     "kernelName": "csharp"
    }
   },
   "outputs": [
    {
     "name": "stdout",
     "output_type": "stream",
     "text": [
      "1234"
     ]
    }
   ],
   "source": [
    "int[] numbers = { 1, 2, 3, 4, 5, 6, 7, 8, 9, 10 };\n",
    "\n",
    "//from statement\n",
    "var lowNums = from n in numbers\n",
    "              where n < 5\n",
    "              select n;\n",
    "\n",
    "//execute query\n",
    "foreach (var x in lowNums)\n",
    "{\n",
    "    Console.Write(x);\n",
    "}"
   ]
  },
  {
   "cell_type": "code",
   "execution_count": 6,
   "metadata": {
    "dotnet_interactive": {
     "language": "csharp"
    },
    "polyglot_notebook": {
     "kernelName": "csharp"
    }
   },
   "outputs": [
    {
     "name": "stdout",
     "output_type": "stream",
     "text": [
      "Sally 90\n",
      "Bob 80\n",
      "Joe 70\n"
     ]
    }
   ],
   "source": [
    "//class student with name and score\n",
    "class Student\n",
    "{\n",
    "    public string Name { get; set; }\n",
    "    public int Score { get; set; }\n",
    "}\n",
    "\n",
    "//list of students\n",
    "List<Student> students = new List<Student>()\n",
    "{\n",
    "    new Student { Name = \"Sally\", Score = 90 },\n",
    "    new Student { Name = \"Bob\", Score = 80 },\n",
    "    new Student { Name = \"Joe\", Score = 70 },\n",
    "    new Student { Name = \"Jane\", Score = 60 },\n",
    "    new Student { Name = \"Jim\", Score = 50 },\n",
    "    new Student { Name = \"Sue\", Score = 40 },\n",
    "    new Student { Name = \"Jim\", Score = 30 },\n",
    "    new Student { Name = \"Bob\", Score = 20 },\n",
    "    new Student { Name = \"Sally\", Score = 10 },\n",
    "};\n",
    "\n",
    "//query\n",
    "var topStudents = from s in students\n",
    "                  where s.Score > 60\n",
    "                  orderby s.Score descending\n",
    "                  select s;\n",
    "\n",
    "//execute query\n",
    "foreach (var x in topStudents)\n",
    "{\n",
    "    Console.WriteLine(x.Name + \" \" + x.Score);\n",
    "}"
   ]
  }
 ],
 "metadata": {
  "kernelspec": {
   "display_name": ".NET (C#)",
   "language": "C#",
   "name": ".net-csharp"
  },
  "language_info": {
   "name": "polyglot-notebook"
  },
  "polyglot_notebook": {
   "kernelInfo": {
    "defaultKernelName": "csharp",
    "items": [
     {
      "aliases": [],
      "languageName": "csharp",
      "name": "csharp"
     }
    ]
   }
  }
 },
 "nbformat": 4,
 "nbformat_minor": 2
}
