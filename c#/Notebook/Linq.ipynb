{
 "cells": [
  {
   "cell_type": "markdown",
   "metadata": {},
   "source": [
    "# C# Linq (Language Integrated Query)\n",
    "\n",
    "A query is an expression that retrieves data from a data source.\n",
    "\n",
    "All LINQ query operations consist of three distinct actions:\n",
    "\n",
    "- Obtain the data source\n",
    "- Create query\n",
    "- Execute query\n"
   ]
  },
  {
   "cell_type": "code",
   "execution_count": 1,
   "metadata": {
    "dotnet_interactive": {
     "language": "csharp"
    },
    "polyglot_notebook": {
     "kernelName": "csharp"
    }
   },
   "outputs": [
    {
     "name": "stdout",
     "output_type": "stream",
     "text": [
      "2/4/6/"
     ]
    }
   ],
   "source": [
    "// Array example\n",
    "\n",
    "int[] numbers = new int[7]{1, 2, 3, 4, 5, 6, 7};\n",
    "\n",
    "var numQuery = from num in numbers\n",
    "               where (num % 2) == 0\n",
    "               select num;\n",
    "\n",
    "foreach (int num in numQuery)\n",
    "{\n",
    "    Console.Write($\"{num}/\");\n",
    "}"
   ]
  },
  {
   "cell_type": "code",
   "execution_count": 13,
   "metadata": {
    "dotnet_interactive": {
     "language": "csharp"
    },
    "polyglot_notebook": {
     "kernelName": "csharp"
    }
   },
   "outputs": [
    {
     "name": "stdout",
     "output_type": "stream",
     "text": [
      "Apple\r\n"
     ]
    }
   ],
   "source": [
    "//List example\n",
    "\n",
    "List<string> fruits = new List<string>();\n",
    "\n",
    "fruits.Add(\"Apple\");\n",
    "fruits.Add(\"Banana\");\n",
    "fruits.Add(\"Orange\");\n",
    "\n",
    "//a linq to search apple\n",
    "\n",
    "var query = from fruit in fruits\n",
    "            where fruit == \"Apple\"\n",
    "            select fruit;\n",
    "\n",
    "foreach (var fruit in query)\n",
    "{\n",
    "    Console.WriteLine(fruit);\n",
    "}\n"
   ]
  },
  {
   "cell_type": "code",
   "execution_count": 1,
   "metadata": {
    "dotnet_interactive": {
     "language": "csharp"
    },
    "polyglot_notebook": {
     "kernelName": "csharp"
    }
   },
   "outputs": [
    {
     "name": "stdout",
     "output_type": "stream",
     "text": [
      "Name: Spiderman, City: New York, Power: Spider senses\n",
      "Name: Ironman, City: New York, Power: Money\n",
      "Name: Hulk, City: New York, Power: Strength\n"
     ]
    }
   ],
   "source": [
    "//object example\n",
    "  class Hero\n",
    "  {\n",
    "    public string Name { get; set; }\n",
    "    public string City { get; set; }\n",
    "    public string Power { get; set; }\n",
    "\n",
    "    public Hero(string name, string city, string power)\n",
    "    {\n",
    "      Name = name;\n",
    "      City = city;\n",
    "      Power = power;\n",
    "    }\n",
    "\n",
    "    public override string ToString()\n",
    "    {\n",
    "      return $\"Name: {Name}, City: {City}, Power: {Power}\";\n",
    "    }\n",
    "  }\n",
    "\n",
    "  Hero hero1 = new(\"Batman\", \"Gotham\", \"Money\");\n",
    "  Hero hero2 = new(\"Superman\", \"Metropolis\", \"Everything\");\n",
    "  Hero hero3 = new(\"Spiderman\", \"New York\", \"Spider senses\");\n",
    "  Hero hero4 = new(\"Ironman\", \"New York\", \"Money\");\n",
    "  Hero hero5 = new(\"Hulk\", \"New York\", \"Strength\");\n",
    "\n",
    "  List<Hero> heroes = new()\n",
    "  {\n",
    "      hero1,\n",
    "      hero2,\n",
    "      hero3,\n",
    "      hero4,\n",
    "      hero5\n",
    "  };\n",
    "\n",
    "  var heroesFromNewYork = from hero in heroes\n",
    "                          where hero.City == \"New York\"\n",
    "                          select hero;\n",
    "\n",
    "  foreach (var hero in heroesFromNewYork)\n",
    "  {\n",
    "    Console.WriteLine(hero);\n",
    "  }"
   ]
  }
 ],
 "metadata": {
  "kernelspec": {
   "display_name": ".NET (C#)",
   "language": "C#",
   "name": ".net-csharp"
  },
  "language_info": {
   "name": "polyglot-notebook"
  },
  "polyglot_notebook": {
   "kernelInfo": {
    "defaultKernelName": "csharp",
    "items": [
     {
      "aliases": [],
      "languageName": "csharp",
      "name": "csharp"
     }
    ]
   }
  }
 },
 "nbformat": 4,
 "nbformat_minor": 2
}
