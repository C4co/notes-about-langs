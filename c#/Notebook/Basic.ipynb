{
 "cells": [
  {
   "cell_type": "markdown",
   "metadata": {},
   "source": [
    "# C# Basic\n",
    "\n",
    "Some notes about the bases of C# language.\n"
   ]
  },
  {
   "cell_type": "markdown",
   "metadata": {},
   "source": [
    "## 👉 Types\n"
   ]
  },
  {
   "cell_type": "markdown",
   "metadata": {},
   "source": [
    "### 🔸 Primitives\n"
   ]
  },
  {
   "cell_type": "code",
   "execution_count": 1,
   "metadata": {
    "dotnet_interactive": {
     "language": "csharp"
    },
    "polyglot_notebook": {
     "kernelName": "csharp"
    }
   },
   "outputs": [],
   "source": [
    "//numbers\n",
    "int a = 1;\n",
    "double b = 1.0;\n",
    "float c = 1.0f;\n",
    "decimal d = 1.0m;\n",
    "long e = 1L;\n",
    "short f = 1;\n",
    "byte g = 1;\n",
    "uint h = 1U;\n",
    "ulong i = 1UL;\n",
    "ushort j = 1;\n",
    "\n",
    "//text\n",
    "string k = \"Hello\";\n",
    "char l = 'a';\n",
    "\n",
    "//boolean\n",
    "bool m = true;\n",
    "\n",
    "//object\n",
    "object n = new();"
   ]
  },
  {
   "cell_type": "markdown",
   "metadata": {},
   "source": [
    "### 🔸 Type checking\n"
   ]
  },
  {
   "cell_type": "code",
   "execution_count": 56,
   "metadata": {
    "dotnet_interactive": {
     "language": "csharp"
    },
    "polyglot_notebook": {
     "kernelName": "csharp"
    }
   },
   "outputs": [
    {
     "name": "stdout",
     "output_type": "stream",
     "text": [
      "True\n",
      "True\n",
      "System.String\n",
      "False\n",
      "True\n"
     ]
    }
   ],
   "source": [
    "string lang = \"C#\";\n",
    "\n",
    "Console.WriteLine(lang is string);\n",
    "Console.WriteLine(lang is object);\n",
    "Console.WriteLine(lang.GetType());\n",
    "\n",
    "//check if lang is null\n",
    "Console.WriteLine(lang is null);\n",
    "\n",
    "//check if lang is not null\n",
    "Console.WriteLine(lang is not null);\n"
   ]
  },
  {
   "cell_type": "markdown",
   "metadata": {},
   "source": [
    "### 🔸Type casting\n"
   ]
  },
  {
   "cell_type": "code",
   "execution_count": 3,
   "metadata": {
    "dotnet_interactive": {
     "language": "csharp"
    },
    "polyglot_notebook": {
     "kernelName": "csharp"
    }
   },
   "outputs": [],
   "source": [
    "//implicity cast\n",
    "int myInt = 9;\n",
    "double myDouble = myInt;"
   ]
  },
  {
   "cell_type": "code",
   "execution_count": 1,
   "metadata": {
    "dotnet_interactive": {
     "language": "csharp"
    },
    "polyglot_notebook": {
     "kernelName": "csharp"
    }
   },
   "outputs": [],
   "source": [
    "//explicit cast\n",
    "double anotherDouble = 9.78;\n",
    "int anotherInt = (int) myDouble; //myInt = 9"
   ]
  },
  {
   "cell_type": "code",
   "execution_count": 1,
   "metadata": {
    "dotnet_interactive": {
     "language": "csharp"
    },
    "polyglot_notebook": {
     "kernelName": "csharp"
    }
   },
   "outputs": [
    {
     "name": "stdout",
     "output_type": "stream",
     "text": [
      "10\n",
      "10\n",
      "5\n",
      "True\n"
     ]
    }
   ],
   "source": [
    "//type conversion methods\n",
    "int myInt = 10;\n",
    "double myDouble = 5.25;\n",
    "bool myBool = true;\n",
    "\n",
    "Console.WriteLine(Convert.ToString(myInt));    // convert int to string\n",
    "Console.WriteLine(Convert.ToDouble(myInt));    // convert int to double\n",
    "Console.WriteLine(Convert.ToInt32(myDouble));  // convert double to int\n",
    "Console.WriteLine(Convert.ToString(myBool));   // convert bool to string"
   ]
  },
  {
   "cell_type": "markdown",
   "metadata": {},
   "source": [
    "## 👉 Strings\n"
   ]
  },
  {
   "cell_type": "code",
   "execution_count": 32,
   "metadata": {
    "dotnet_interactive": {
     "language": "csharp"
    },
    "polyglot_notebook": {
     "kernelName": "csharp"
    }
   },
   "outputs": [],
   "source": [
    "string name = \"John\";\n",
    "string lastName = \"Doe\";\n",
    "\n",
    "//interpolation\n",
    "string fullName = name + \" \" + lastName;\n",
    "string fullname2 = $\"{name} {lastName}\";\n",
    "\n",
    "//object\n",
    "string upper = fullName.ToUpper();\n",
    "string lower = fullName.ToLower();"
   ]
  },
  {
   "cell_type": "markdown",
   "metadata": {},
   "source": [
    "## 👉 Conditions\n"
   ]
  },
  {
   "cell_type": "code",
   "execution_count": 5,
   "metadata": {
    "dotnet_interactive": {
     "language": "csharp"
    },
    "polyglot_notebook": {
     "kernelName": "csharp"
    }
   },
   "outputs": [
    {
     "name": "stdout",
     "output_type": "stream",
     "text": [
      "x is less than y\n",
      "x is 10\n"
     ]
    }
   ],
   "source": [
    "int x = 10;\n",
    "int y = 20;\n",
    "\n",
    "int z = x + y;\n",
    "\n",
    "//elseif\n",
    "if (x > y) {\n",
    "  Console.WriteLine(\"x is greater than y\");\n",
    "} else if (x < y) {\n",
    "  Console.WriteLine(\"x is less than y\");\n",
    "} else {\n",
    "  Console.WriteLine(\"x is equal to y\");\n",
    "}\n",
    "\n",
    "//switch\n",
    "switch (x) {\n",
    "  case 10:\n",
    "    Console.WriteLine(\"x is 10\");\n",
    "    break;\n",
    "  case 20:\n",
    "    Console.WriteLine(\"x is 20\");\n",
    "    break;\n",
    "  default:\n",
    "    Console.WriteLine(\"x is not 10 or 20\");\n",
    "    break;\n",
    "}\n",
    "\n",
    "//ternary operator\n",
    "int time = 20;\n",
    "string result = (time < 18) ? \"Good day.\" : \"Good evening.\";"
   ]
  },
  {
   "cell_type": "markdown",
   "metadata": {},
   "source": [
    "## 👉 Array\n"
   ]
  },
  {
   "cell_type": "code",
   "execution_count": 50,
   "metadata": {
    "dotnet_interactive": {
     "language": "csharp"
    },
    "polyglot_notebook": {
     "kernelName": "csharp"
    }
   },
   "outputs": [
    {
     "name": "stdout",
     "output_type": "stream",
     "text": [
      "foo\n",
      "foo/bar/span/foo/bar/span/foo/bar/span/3\n"
     ]
    }
   ],
   "source": [
    "string[] names = {\"foo\", \"bar\", \"span\"};\n",
    "\n",
    "//get first element\n",
    "Console.WriteLine(names[0]);\n",
    "\n",
    "//loop with for\n",
    "for (int i = 0; i < names.Length; i++)\n",
    "{\n",
    "    Console.Write(names[i] + \"/\");\n",
    "}\n",
    "\n",
    "//loop with foreach\n",
    "foreach (string s in names)\n",
    "{\n",
    "    Console.Write(s + \"/\");\n",
    "}\n",
    "\n",
    "//loop with method\n",
    "Array.ForEach(names, item => Console.Write(item + \"/\"));\n",
    "\n",
    "//total of elements\n",
    "Console.WriteLine(names.Length);\n"
   ]
  },
  {
   "cell_type": "markdown",
   "metadata": {},
   "source": [
    "## 👉 Collections\n"
   ]
  },
  {
   "cell_type": "markdown",
   "metadata": {},
   "source": [
    "### 🔸 List\n",
    "\n",
    "Represents a strongly typed list of objects that can be accessed by index. Provides methods to search, sort, and manipulate lists.\n"
   ]
  },
  {
   "cell_type": "code",
   "execution_count": 62,
   "metadata": {
    "dotnet_interactive": {
     "language": "csharp"
    },
    "polyglot_notebook": {
     "kernelName": "csharp"
    }
   },
   "outputs": [
    {
     "name": "stdout",
     "output_type": "stream",
     "text": [
      "bar/span/new item/bar/span/new item/bar/span/new item/"
     ]
    }
   ],
   "source": [
    "List<string> list = new List<string>();\n",
    "list.Add(\"foo\");\n",
    "list.Add(\"bar\");\n",
    "list.Add(\"span\");\n",
    "\n",
    "//add new item\n",
    "list.Add(\"new item\");\n",
    "\n",
    "//remove item\n",
    "list.Remove(\"foo\");\n",
    "\n",
    "//loop list\n",
    "foreach (string item in list)\n",
    "{\n",
    "    Console.Write(item + \"/\");\n",
    "}\n",
    "\n",
    "//loop list with index\n",
    "for (int i = 0; i < list.Count; i++)\n",
    "{\n",
    "    Console.Write(list[i] + \"/\");\n",
    "}\n",
    "\n",
    "list.ForEach(item => Console.Write(item + \"/\"));\n"
   ]
  },
  {
   "cell_type": "markdown",
   "metadata": {},
   "source": [
    "---\n"
   ]
  },
  {
   "cell_type": "markdown",
   "metadata": {},
   "source": [
    "### 🔸 SortedList\n",
    "\n",
    "The SortedList<TKey, TValue>, and SortedList are collection classes that can store key-value pairs that are sorted by the keys based on the associated IComparer implementation. For example, if the keys are of primitive types, then sorted in ascending order of keys.\n"
   ]
  },
  {
   "cell_type": "code",
   "execution_count": 64,
   "metadata": {
    "dotnet_interactive": {
     "language": "csharp"
    },
    "polyglot_notebook": {
     "kernelName": "csharp"
    }
   },
   "outputs": [
    {
     "name": "stdout",
     "output_type": "stream",
     "text": [
      "1 - one\n",
      "2 - two\n",
      "3 - three\n",
      "10 - two\n"
     ]
    }
   ],
   "source": [
    "SortedList<int, string> sortedList = new();\n",
    "\n",
    "sortedList.Add(10, \"two\");\n",
    "sortedList.Add(3, \"three\");\n",
    "sortedList.Add(1, \"one\");\n",
    "sortedList.Add(2, \"two\");\n",
    "\n",
    "foreach (var item in sortedList)\n",
    "{\n",
    "    Console.WriteLine($\"{item.Key} - {item.Value}\");\n",
    "}\n"
   ]
  },
  {
   "cell_type": "markdown",
   "metadata": {},
   "source": [
    "---\n"
   ]
  },
  {
   "cell_type": "markdown",
   "metadata": {},
   "source": [
    "### 🔸 Dictionary\n",
    "\n",
    "The Dictionary<TKey, TValue> is a generic collection that stores key-value pairs in no particular order.\n"
   ]
  },
  {
   "cell_type": "code",
   "execution_count": 70,
   "metadata": {
    "dotnet_interactive": {
     "language": "csharp"
    },
    "polyglot_notebook": {
     "kernelName": "csharp"
    }
   },
   "outputs": [
    {
     "name": "stdout",
     "output_type": "stream",
     "text": [
      "Key: 1, Value: One\n",
      "Key: 2, Value: Two\n",
      "Key: 3, Value: Three\n",
      "Key: 1\n",
      "Key: 2\n",
      "Key: 3\n"
     ]
    }
   ],
   "source": [
    "Dictionary<int, string> numberNames = new();\n",
    "\n",
    "numberNames.Add(1, \"One\");\n",
    "numberNames.Add(2, \"Two\");\n",
    "numberNames.Add(3, \"Three\");\n",
    "\n",
    "//loop and print out all key/value pairs\n",
    "foreach (KeyValuePair<int, string> kvp in numberNames)\n",
    "{\n",
    "    Console.WriteLine(\"Key: {0}, Value: {1}\", kvp.Key, kvp.Value);\n",
    "}\n",
    "\n",
    "//loop and print out keys only\n",
    "foreach (int key in numberNames.Keys)\n",
    "{\n",
    "    Console.WriteLine(\"Key: {0}\", key);\n",
    "}"
   ]
  }
 ],
 "metadata": {
  "kernelspec": {
   "display_name": ".NET (C#)",
   "language": "C#",
   "name": ".net-csharp"
  },
  "language_info": {
   "name": "polyglot-notebook"
  },
  "polyglot_notebook": {
   "kernelInfo": {
    "defaultKernelName": "csharp",
    "items": [
     {
      "aliases": [],
      "languageName": "csharp",
      "name": "csharp"
     }
    ]
   }
  }
 },
 "nbformat": 4,
 "nbformat_minor": 2
}
