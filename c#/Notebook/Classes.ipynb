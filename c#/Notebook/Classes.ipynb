{
 "cells": [
  {
   "cell_type": "markdown",
   "metadata": {},
   "source": [
    "# Classes C#\n",
    "\n",
    "A basic example of class.\n"
   ]
  },
  {
   "cell_type": "code",
   "execution_count": 1,
   "metadata": {
    "dotnet_interactive": {
     "language": "csharp"
    },
    "polyglot_notebook": {
     "kernelName": "csharp"
    }
   },
   "outputs": [
    {
     "name": "stdout",
     "output_type": "stream",
     "text": [
      "Name: Superman\n",
      "Age: 30\n",
      "Powers: flight, heat vision, super strength\r\n"
     ]
    }
   ],
   "source": [
    "class Person\n",
    "{\n",
    "  public string Name { get; set; }\n",
    "  public int Age { get; set; }\n",
    "\n",
    "  public Person(string name, int age)\n",
    "  {\n",
    "    Name = name;\n",
    "    Age = age;\n",
    "  }\n",
    "}\n",
    "\n",
    "class Hero : Person\n",
    "{\n",
    "  protected string[] Powers { get; set; }\n",
    "\n",
    "  public Hero(string name, int age, string[] powers) : base(name, age)\n",
    "  {\n",
    "    Powers = powers;\n",
    "  }\n",
    "\n",
    "  public override string ToString()\n",
    "  {\n",
    "    return $\"Name: {Name}\\nAge: {Age}\\nPowers: {string.Join(\", \", Powers)}\";\n",
    "  }\n",
    "}\n",
    "\n",
    "var hero = new Hero(\"Superman\", 30, new string[] { \"flight\", \"heat vision\", \"super strength\" });\n",
    "\n",
    "Console.WriteLine(hero);\n"
   ]
  },
  {
   "cell_type": "markdown",
   "metadata": {},
   "source": [
    "## Partial Classes\n",
    "\n",
    "Can divide a class in multiple parts.\n"
   ]
  },
  {
   "cell_type": "code",
   "execution_count": 12,
   "metadata": {
    "dotnet_interactive": {
     "language": "csharp"
    },
    "polyglot_notebook": {
     "kernelName": "csharp"
    }
   },
   "outputs": [
    {
     "name": "stdout",
     "output_type": "stream",
     "text": [
      "Name: Tom  Age: 34\r\n"
     ]
    }
   ],
   "source": [
    "partial class Person\n",
    "{\n",
    "  public override string ToString()\n",
    "  {\n",
    "    return $\"Name: {Name}  Age: {Age}\";\n",
    "  }\n",
    "}\n",
    "\n",
    "partial class Person\n",
    "{\n",
    "  public string Name { get; set; }\n",
    "  public int Age { get; set; }\n",
    "\n",
    "  public Person(string name, int age)\n",
    "  {\n",
    "    Name = name;\n",
    "    Age = age;\n",
    "  }\n",
    "}\n",
    "\n",
    "Person tom = new(\"Tom\", 34);\n",
    "Console.WriteLine(tom);\n"
   ]
  },
  {
   "cell_type": "markdown",
   "metadata": {},
   "source": [
    "## Static classes\n"
   ]
  },
  {
   "cell_type": "code",
   "execution_count": 7,
   "metadata": {
    "dotnet_interactive": {
     "language": "csharp"
    },
    "polyglot_notebook": {
     "kernelName": "csharp"
    }
   },
   "outputs": [
    {
     "name": "stdout",
     "output_type": "stream",
     "text": [
      "Hydrogen (H) - 1\r\n"
     ]
    }
   ],
   "source": [
    "public static class Element\n",
    "{\n",
    "    public static string Name { get; set; }\n",
    "    public static string Symbol { get; set; }\n",
    "    public static int AtomicNumber { get; set; }\n",
    "\n",
    "    public static void Print()\n",
    "    {\n",
    "        Console.WriteLine($\"{Name} ({Symbol}) - {AtomicNumber}\");\n",
    "    }\n",
    "}\n",
    "\n",
    "Element.Name = \"Hydrogen\";\n",
    "Element.Symbol = \"H\";\n",
    "Element.AtomicNumber = 1;\n",
    "Element.Print();\n"
   ]
  },
  {
   "cell_type": "markdown",
   "metadata": {},
   "source": [
    "## Sealed classes\n",
    "\n",
    "A sealed class is a class that cannot be inherited from.\n"
   ]
  },
  {
   "cell_type": "code",
   "execution_count": 1,
   "metadata": {
    "dotnet_interactive": {
     "language": "csharp"
    },
    "polyglot_notebook": {
     "kernelName": "csharp"
    }
   },
   "outputs": [
    {
     "name": "stdout",
     "output_type": "stream",
     "text": [
      "(10, 20)\r\n"
     ]
    }
   ],
   "source": [
    "sealed class Point\n",
    "{\n",
    "    public int X { get; set; }\n",
    "    public int Y { get; set; }\n",
    "\n",
    "    public Point(int x, int y)\n",
    "    {\n",
    "        X = x;\n",
    "        Y = y;\n",
    "    }\n",
    "\n",
    "    public override string ToString()\n",
    "    {\n",
    "        return $\"({X}, {Y})\";\n",
    "    }\n",
    "}\n",
    "\n",
    "Point p = new(10, 20);\n",
    "Console.WriteLine(p);\n"
   ]
  },
  {
   "cell_type": "markdown",
   "metadata": {},
   "source": [
    "## Constructor overloading\n",
    "\n",
    "contructor overloading are used to create objects with different initial states\n"
   ]
  },
  {
   "cell_type": "code",
   "execution_count": 3,
   "metadata": {
    "dotnet_interactive": {
     "language": "csharp"
    },
    "polyglot_notebook": {
     "kernelName": "csharp"
    }
   },
   "outputs": [],
   "source": [
    "sealed class Point\n",
    "{\n",
    "    public int X { get; set; }\n",
    "    public int Y { get; set; }\n",
    "\n",
    "    public Point(int x, int y)\n",
    "    {\n",
    "        X = x;\n",
    "        Y = y;\n",
    "    }\n",
    "\n",
    "    //method overloading\n",
    "    public Point() : this(0, 0) { }\n",
    "\n",
    "    //method overloading\n",
    "    public Point(string s)\n",
    "    {\n",
    "        int[] coord = s.Split(',').Select(int.Parse).ToArray();\n",
    "        X = coord[0];\n",
    "        Y = coord[1];\n",
    "    }\n",
    "\n",
    "    //method overloading\n",
    "    public Point(int[] coord)\n",
    "    {\n",
    "        X = coord[0];\n",
    "        Y = coord[1];\n",
    "    }\n",
    "\n",
    "    //method overloading\n",
    "    public Point(Dictionary<string, int> dict)\n",
    "    {\n",
    "        X = dict[\"x\"];\n",
    "        Y = dict[\"y\"];\n",
    "    }\n",
    "}\n",
    "\n",
    "Point p1 = new(10, 20);\n",
    "Point p2 = new();\n",
    "Point p3 = new(\"10,20\");\n",
    "Point p4 = new(new int[] { 10, 20 });\n",
    "Point p5 = new(new Dictionary<string, int> { { \"x\", 10 }, { \"y\", 20 } });\n"
   ]
  },
  {
   "cell_type": "markdown",
   "metadata": {},
   "source": [
    "## Polymorphism\n",
    "\n",
    "GitHub Copilot: In C#, polymorphism is the ability of objects of different types to be treated as if they were the same type.\n",
    "\n",
    "`virtual` methods are methods that can overrided. Use `new` keyword to hide base class method if you don't want to override it.\n"
   ]
  },
  {
   "cell_type": "code",
   "execution_count": 6,
   "metadata": {
    "dotnet_interactive": {
     "language": "csharp"
    },
    "polyglot_notebook": {
     "kernelName": "csharp"
    }
   },
   "outputs": [],
   "source": [
    "class Person\n",
    "{\n",
    "    public string Name { get; set; }\n",
    "\n",
    "    public int Age { get; set; }\n",
    "\n",
    "    public Person(string name, int age)\n",
    "    {\n",
    "        Name = name;\n",
    "        Age = age;\n",
    "    }\n",
    "\n",
    "    public virtual string Description()\n",
    "    {\n",
    "        return $\"Name: {Name}, Age: {Age}\";\n",
    "    }\n",
    "\n",
    "    public void Say(string message)\n",
    "    {\n",
    "        Console.WriteLine($\"{Name} say {message}\");\n",
    "    }\n",
    "}\n",
    "\n",
    "class Student : Person\n",
    "{\n",
    "    public Student(string name, int age) : base(name, age) { }\n",
    "\n",
    "    //method polymorphism\n",
    "    public override string Description()\n",
    "    {\n",
    "        return $\"Name: {Name}, Age: {Age}\";\n",
    "    }\n",
    "\n",
    "    //method polymorphism\n",
    "    public new void Say(string message)\n",
    "    {\n",
    "        Console.WriteLine($\"{Name} say {message}\");\n",
    "    }\n",
    "}\n"
   ]
  }
 ],
 "metadata": {
  "kernelspec": {
   "display_name": ".NET (C#)",
   "language": "C#",
   "name": ".net-csharp"
  },
  "language_info": {
   "name": "polyglot-notebook"
  },
  "polyglot_notebook": {
   "kernelInfo": {
    "defaultKernelName": "csharp",
    "items": [
     {
      "aliases": [],
      "languageName": "csharp",
      "name": "csharp"
     }
    ]
   }
  }
 },
 "nbformat": 4,
 "nbformat_minor": 2
}
