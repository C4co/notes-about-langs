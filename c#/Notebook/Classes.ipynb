{
 "cells": [
  {
   "cell_type": "markdown",
   "metadata": {},
   "source": [
    "# Classes C#\n",
    "\n",
    "A basic example of class.\n"
   ]
  },
  {
   "cell_type": "code",
   "execution_count": 1,
   "metadata": {
    "dotnet_interactive": {
     "language": "csharp"
    },
    "polyglot_notebook": {
     "kernelName": "csharp"
    }
   },
   "outputs": [
    {
     "name": "stdout",
     "output_type": "stream",
     "text": [
      "Name: Superman\n",
      "Age: 30\n",
      "Powers: flight, heat vision, super strength\r\n"
     ]
    }
   ],
   "source": [
    "class Person\n",
    "{\n",
    "  public string Name { get; set; }\n",
    "  public int Age { get; set; }\n",
    "\n",
    "  public Person(string name, int age)\n",
    "  {\n",
    "    Name = name;\n",
    "    Age = age;\n",
    "  }\n",
    "}\n",
    "\n",
    "class Hero : Person\n",
    "{\n",
    "  protected string[] Powers { get; set; }\n",
    "\n",
    "  public Hero(string name, int age, string[] powers) : base(name, age)\n",
    "  {\n",
    "    Powers = powers;\n",
    "  }\n",
    "\n",
    "  public override string ToString()\n",
    "  {\n",
    "    return $\"Name: {Name}\\nAge: {Age}\\nPowers: {string.Join(\", \", Powers)}\";\n",
    "  }\n",
    "}\n",
    "\n",
    "var hero = new Hero(\"Superman\", 30, new string[] { \"flight\", \"heat vision\", \"super strength\" });\n",
    "\n",
    "Console.WriteLine(hero);\n"
   ]
  },
  {
   "cell_type": "markdown",
   "metadata": {},
   "source": [
    "## Partial Classes\n",
    "\n",
    "Can divide a class in multiple parts.\n"
   ]
  },
  {
   "cell_type": "code",
   "execution_count": 12,
   "metadata": {
    "dotnet_interactive": {
     "language": "csharp"
    },
    "polyglot_notebook": {
     "kernelName": "csharp"
    }
   },
   "outputs": [
    {
     "name": "stdout",
     "output_type": "stream",
     "text": [
      "Name: Tom  Age: 34\r\n"
     ]
    }
   ],
   "source": [
    "partial class Person\n",
    "{\n",
    "  public override string ToString()\n",
    "  {\n",
    "    return $\"Name: {Name}  Age: {Age}\";\n",
    "  }\n",
    "}\n",
    "\n",
    "partial class Person\n",
    "{\n",
    "  public string Name { get; set; }\n",
    "  public int Age { get; set; }\n",
    "\n",
    "  public Person(string name, int age)\n",
    "  {\n",
    "    Name = name;\n",
    "    Age = age;\n",
    "  }\n",
    "}\n",
    "\n",
    "Person tom = new(\"Tom\", 34);\n",
    "Console.WriteLine(tom);\n"
   ]
  },
  {
   "cell_type": "markdown",
   "metadata": {},
   "source": [
    "## Static classes\n"
   ]
  },
  {
   "cell_type": "code",
   "execution_count": 11,
   "metadata": {
    "dotnet_interactive": {
     "language": "csharp"
    },
    "polyglot_notebook": {
     "kernelName": "csharp"
    }
   },
   "outputs": [
    {
     "name": "stdout",
     "output_type": "stream",
     "text": [
      "Hydrogen (H) - 1\r\n"
     ]
    }
   ],
   "source": [
    "public static class Element\n",
    "{\n",
    "  public static string Name { get; set; }\n",
    "  public static string Symbol { get; set; }\n",
    "  public static int AtomicNumber { get; set; }\n",
    "\n",
    "  public static void Print()\n",
    "  {\n",
    "    Console.WriteLine($\"{Name} ({Symbol}) - {AtomicNumber}\");\n",
    "  }\n",
    "}\n",
    "\n",
    "Element.Name = \"Hydrogen\";\n",
    "Element.Symbol = \"H\";\n",
    "Element.AtomicNumber = 1;\n",
    "Element.Print();\n"
   ]
  }
 ],
 "metadata": {
  "kernelspec": {
   "display_name": ".NET (C#)",
   "language": "C#",
   "name": ".net-csharp"
  },
  "language_info": {
   "name": "polyglot-notebook"
  },
  "polyglot_notebook": {
   "kernelInfo": {
    "defaultKernelName": "csharp",
    "items": [
     {
      "aliases": [],
      "languageName": "csharp",
      "name": "csharp"
     }
    ]
   }
  }
 },
 "nbformat": 4,
 "nbformat_minor": 2
}
