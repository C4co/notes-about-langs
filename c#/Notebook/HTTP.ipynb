{
 "cells": [
  {
   "cell_type": "markdown",
   "metadata": {},
   "source": [
    "# HTTP Client C#\n",
    "\n",
    "Basic example.\n"
   ]
  },
  {
   "cell_type": "code",
   "execution_count": 5,
   "metadata": {
    "dotnet_interactive": {
     "language": "csharp"
    },
    "polyglot_notebook": {
     "kernelName": "csharp"
    }
   },
   "outputs": [
    {
     "name": "stdout",
     "output_type": "stream",
     "text": [
      "{\"Id\":1,\"Title\":\"iPhone 9\",\"Description\":\"An apple mobile which is nothing like apple\",\"Price\":549,\"discount_percentage\":0,\"Rating\":4.69,\"Stock\":94,\"Brand\":\"Apple\",\"Category\":\"smartphones\",\"Thumbnail\":\"https://i.dummyjson.com/data/products/1/thumbnail.jpg\",\"Images\":[\"https://i.dummyjson.com/data/products/1/1.jpg\",\"https://i.dummyjson.com/data/products/1/2.jpg\",\"https://i.dummyjson.com/data/products/1/3.jpg\",\"https://i.dummyjson.com/data/products/1/4.jpg\",\"https://i.dummyjson.com/data/products/1/thumbnail.jpg\"]}\r\n"
     ]
    }
   ],
   "source": [
    "using System.Text.Json;\n",
    "using System.Net.Http;\n",
    "using System.Text.Json.Serialization;\n",
    "\n",
    "public class Product\n",
    "{\n",
    "  public int Id { get; set; }\n",
    "  public string Title { get; set; }\n",
    "  public string Description { get; set; }\n",
    "  public int Price { get; set; }\n",
    "\n",
    "  //adapt prop to json prop\n",
    "  [JsonPropertyName(\"discount_percentage\")]\n",
    "  public double DiscountPercentage { get; set; }\n",
    "  public double Rating { get; set; }\n",
    "  public int Stock { get; set; }\n",
    "  public string Brand { get; set; }\n",
    "  public string Category { get; set; }\n",
    "  public string Thumbnail { get; set; }\n",
    "  public List<string> Images { get; set; }\n",
    "\n",
    "  public Product(\n",
    "    int id,\n",
    "    string title,\n",
    "    string description,\n",
    "    int price,\n",
    "    double discountPercentage,\n",
    "    double rating,\n",
    "    int stock,\n",
    "    string brand,\n",
    "    string category,\n",
    "    string thumbnail,\n",
    "    List<string> images\n",
    "  )\n",
    "  {\n",
    "    Id = id;\n",
    "    Title = title;\n",
    "    Description = description;\n",
    "    Price = price;\n",
    "    DiscountPercentage = discountPercentage;\n",
    "    Rating = rating;\n",
    "    Stock = stock;\n",
    "    Brand = brand;\n",
    "    Category = category;\n",
    "    Thumbnail = thumbnail;\n",
    "    Images = images;\n",
    "  }\n",
    "\n",
    "  public override string ToString()\n",
    "  {\n",
    "    return JsonSerializer.Serialize(this);\n",
    "  }\n",
    "}\n",
    "\n",
    "HttpClient client = new();\n",
    "\n",
    "var response = await client.GetAsync(\"https://dummyjson.com/products/1\");\n",
    "\n",
    "if (response.IsSuccessStatusCode)\n",
    "{\n",
    "  var content = response.Content.ReadAsStringAsync().Result;\n",
    "\n",
    "  // deserialize .\n",
    "  var options = new JsonSerializerOptions\n",
    "  {\n",
    "    PropertyNamingPolicy = JsonNamingPolicy.CamelCase\n",
    "  };\n",
    "\n",
    "  //adapt prop to json prop\n",
    "  var product = JsonSerializer.Deserialize<Product>(content, options)!;\n",
    "\n",
    "  Console.WriteLine(product);\n",
    "}\n"
   ]
  }
 ],
 "metadata": {
  "kernelspec": {
   "display_name": ".NET (C#)",
   "language": "C#",
   "name": ".net-csharp"
  },
  "language_info": {
   "name": "polyglot-notebook"
  },
  "polyglot_notebook": {
   "kernelInfo": {
    "defaultKernelName": "csharp",
    "items": [
     {
      "aliases": [],
      "languageName": "csharp",
      "name": "csharp"
     }
    ]
   }
  }
 },
 "nbformat": 4,
 "nbformat_minor": 2
}
